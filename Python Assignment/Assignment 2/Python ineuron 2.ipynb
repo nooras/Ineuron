{
 "cells": [
  {
   "cell_type": "markdown",
   "metadata": {},
   "source": [
    "# Assignment 2\n",
    "## Name : Nooras Fatima Ansari"
   ]
  },
  {
   "cell_type": "markdown",
   "metadata": {},
   "source": [
    "# Task 1:\n",
    "### 1.1 Write a Python Program to implement your own myreduce() function which works exactly like Python's built-in function reduce()"
   ]
  },
  {
   "cell_type": "markdown",
   "metadata": {},
   "source": [
    "#### Method 1 Reduce"
   ]
  },
  {
   "cell_type": "code",
   "execution_count": 17,
   "metadata": {},
   "outputs": [],
   "source": [
    "t = [1,2,3]"
   ]
  },
  {
   "cell_type": "code",
   "execution_count": 58,
   "metadata": {},
   "outputs": [],
   "source": [
    "def reduce1(t):\n",
    "    temp = 0\n",
    "    for x in t:\n",
    "        temp += x\n",
    "    return temp"
   ]
  },
  {
   "cell_type": "code",
   "execution_count": 59,
   "metadata": {},
   "outputs": [
    {
     "name": "stdout",
     "output_type": "stream",
     "text": [
      "6\n"
     ]
    }
   ],
   "source": [
    "print(reduce1(t))"
   ]
  },
  {
   "cell_type": "markdown",
   "metadata": {},
   "source": [
    "#### Method 2 Reduce"
   ]
  },
  {
   "cell_type": "code",
   "execution_count": 60,
   "metadata": {},
   "outputs": [],
   "source": [
    "def reduce2(t, s):\n",
    "    if s == 1:\n",
    "        temp = 0\n",
    "        for x in t:\n",
    "            temp += x\n",
    "        return temp\n",
    "    \n",
    "    if s == 2:\n",
    "        temp = 0\n",
    "        for x in t:\n",
    "            temp -= x\n",
    "        return temp\n",
    "    \n",
    "    if s == 3:\n",
    "        temp = 1\n",
    "        for x in t:\n",
    "            temp *= x\n",
    "        return temp\n",
    "    \n",
    "    if s == 4:\n",
    "        temp = 1\n",
    "        for x in t:\n",
    "            temp /= x\n",
    "        return temp\n",
    "    "
   ]
  },
  {
   "cell_type": "code",
   "execution_count": 61,
   "metadata": {},
   "outputs": [
    {
     "name": "stdout",
     "output_type": "stream",
     "text": [
      "0.16666666666666666\n"
     ]
    }
   ],
   "source": [
    "# 1 = add\n",
    "# 2 = sub\n",
    "# 3 = multiplication\n",
    "# 4 = division\n",
    "print(reduce2(t,4))\n",
    "\n",
    "# 0.16666666666666666"
   ]
  },
  {
   "cell_type": "markdown",
   "metadata": {},
   "source": [
    "#### Method 3 Reduce"
   ]
  },
  {
   "cell_type": "code",
   "execution_count": 65,
   "metadata": {},
   "outputs": [
    {
     "name": "stdout",
     "output_type": "stream",
     "text": [
      "24\n"
     ]
    }
   ],
   "source": [
    "def do_sum(x1, x2): # Summation\n",
    "    return x1 + x2\n",
    "\n",
    "def do_sub(x1, x2): # Subtraction\n",
    "    return x1 - x2\n",
    "\n",
    "def do_mul(x1, x2): # Multiplication\n",
    "    return x1 * x2\n",
    "\n",
    "def do_div(x1, x2): # Division\n",
    "    return x1 / x2\n",
    "\n",
    "def myreduce(func, seq):\n",
    "    first = seq[0]\n",
    "    for i in seq[1:]:\n",
    "        first = func(first, i)\n",
    "    return first\n",
    "\n",
    "print(myreduce(do_mul, [1, 2, 3, 4]))\n",
    "\n",
    "# 24"
   ]
  },
  {
   "cell_type": "markdown",
   "metadata": {},
   "source": [
    "### 1.2 Write a Python program to implement your own myfilter() function which works exactly like Python's built-in function filter()"
   ]
  },
  {
   "cell_type": "code",
   "execution_count": 80,
   "metadata": {},
   "outputs": [
    {
     "name": "stdout",
     "output_type": "stream",
     "text": [
      "1\n",
      "3\n",
      "1\n",
      "2\n"
     ]
    }
   ],
   "source": [
    "def even(x1): # Even\n",
    "    if x1%2 == 0:\n",
    "        return x1 \n",
    "\n",
    "def odd(x1): # Odd\n",
    "    if x1%2 == 1:\n",
    "        return x1\n",
    "\n",
    "def find(x1): # Find\n",
    "    a = [1,2,3,4,5,6,7,8,9,0]\n",
    "    if x1 in a:\n",
    "        return x1\n",
    "    else:\n",
    "        return None\n",
    "\n",
    "def myfilter(func, seq):\n",
    "    #first = seq[0]\n",
    "    first = []\n",
    "    for i in seq:\n",
    "        if func(i) != None:\n",
    "            first.append(func(i))\n",
    "    return iter(first)\n",
    "\n",
    "odd = myfilter(odd, [1, 2, 3, 4])\n",
    "find = myfilter(find, [1, 2, 55])\n",
    "\n",
    "for x in odd:\n",
    "    print(x)\n",
    "\n",
    "for x in find:\n",
    "    print(x)\n",
    "    \n",
    "'''\n",
    "1\n",
    "3\n",
    "1\n",
    "2\n",
    "'''"
   ]
  },
  {
   "cell_type": "markdown",
   "metadata": {},
   "source": [
    "### 2. Implement List comprehensions to produce the following lists. Write List comprehensions to produce the following Lists :"
   ]
  },
  {
   "cell_type": "code",
   "execution_count": 2,
   "metadata": {},
   "outputs": [
    {
     "name": "stdout",
     "output_type": "stream",
     "text": [
      "['A', 'C', 'A', 'D', 'G', 'I', 'L', 'D']\n"
     ]
    }
   ],
   "source": [
    "#['A', 'C', 'A', 'D', 'G', 'I', ’L’, ‘ D’]\n",
    "temp = 'ACADGILD'\n",
    "final = [alpha for alpha in temp]\n",
    "print(final)\n",
    "\n",
    "# ['A', 'C', 'A', 'D', 'G', 'I', 'L', 'D']"
   ]
  },
  {
   "cell_type": "code",
   "execution_count": 4,
   "metadata": {},
   "outputs": [
    {
     "name": "stdout",
     "output_type": "stream",
     "text": [
      "['x', 'xx', 'xxx', 'xxxx', 'y', 'yy', 'yyy', 'yyyy', 'z', 'zz', 'zzz', 'zzzz']\n"
     ]
    }
   ],
   "source": [
    "temp = ['x', 'y', 'z']\n",
    "final = [item*x for item in temp for x in range(1,5)]\n",
    "print(final)\n",
    "\n",
    "# ['x', 'xx', 'xxx', 'xxxx', 'y', 'yy', 'yyy', 'yyyy', 'z', 'zz', 'zzz', 'zzzz']\n"
   ]
  },
  {
   "cell_type": "code",
   "execution_count": 5,
   "metadata": {},
   "outputs": [
    {
     "name": "stdout",
     "output_type": "stream",
     "text": [
      "['x', 'y', 'z', 'xx', 'yy', 'zz', 'xxx', 'yyy', 'zzz', 'xxxx', 'yyyy', 'zzzz']\n"
     ]
    }
   ],
   "source": [
    "temp = ['x', 'y', 'z']\n",
    "final = [item*x for x in range(1,5) for item in temp ]\n",
    "print(final)\n",
    "\n",
    "# ['x', 'y', 'z', 'xx', 'yy', 'zz', 'xxx', 'yyy', 'zzz', 'xxxx', 'yyyy', 'zzzz']"
   ]
  },
  {
   "cell_type": "code",
   "execution_count": 8,
   "metadata": {},
   "outputs": [
    {
     "name": "stdout",
     "output_type": "stream",
     "text": [
      "[[2], [3], [4], [3], [4], [5], [4], [5], [6]]\n"
     ]
    }
   ],
   "source": [
    "temp = [2,3,4]\n",
    "final = [ [item+num] for item in temp for num in range(0,3)]\n",
    "print(final)\n",
    "\n",
    "# [[2], [3], [4], [3], [4], [5], [4], [5], [6]]"
   ]
  },
  {
   "cell_type": "code",
   "execution_count": 9,
   "metadata": {},
   "outputs": [
    {
     "name": "stdout",
     "output_type": "stream",
     "text": [
      "[[2, 3, 4, 5], [3, 4, 5, 6], [4, 5, 6, 7], [5, 6, 7, 8]]\n"
     ]
    }
   ],
   "source": [
    "temp = [2,3,4,5]\n",
    "final = [ [item+num for item in temp] for num in range(0,4)  ]\n",
    "print(final)\n",
    "\n",
    "# [[2, 3, 4, 5], [3, 4, 5, 6], [4, 5, 6, 7], [5, 6, 7, 8]]"
   ]
  },
  {
   "cell_type": "code",
   "execution_count": 13,
   "metadata": {},
   "outputs": [
    {
     "name": "stdout",
     "output_type": "stream",
     "text": [
      "[(1, 1), (2, 1), (3, 1), (1, 2), (2, 2), (3, 2), (1, 3), (2, 3), (3, 3)]\n"
     ]
    }
   ],
   "source": [
    "temp=[1,2,3]\n",
    "final = [ (b,a) for a in temp for b in temp]\n",
    "print(final)\n",
    "\n",
    "# [(1, 1), (2, 1), (3, 1), (1, 2), (2, 2), (3, 2), (1, 3), (2, 3), (3, 3)]"
   ]
  },
  {
   "cell_type": "markdown",
   "metadata": {},
   "source": [
    "### 3. Implement a function longestWord() that takes a list of words and returns the longest one."
   ]
  },
  {
   "cell_type": "code",
   "execution_count": 14,
   "metadata": {},
   "outputs": [],
   "source": [
    "def longestWord(li):\n",
    "    max = 0\n",
    "    for x in li:\n",
    "        if len(x)>max:\n",
    "            max = len(x)\n",
    "            temp = x\n",
    "    return temp"
   ]
  },
  {
   "cell_type": "code",
   "execution_count": 15,
   "metadata": {},
   "outputs": [
    {
     "name": "stdout",
     "output_type": "stream",
     "text": [
      "ajbjabhdbhsvd\n"
     ]
    }
   ],
   "source": [
    "print(longestWord(['abc', 'abcd', 'bbhvv' , 'a' , 'ajbjabhdbhsvd']))\n",
    "\n",
    "# ajbjabhdbhsvd"
   ]
  },
  {
   "cell_type": "markdown",
   "metadata": {},
   "source": [
    "# Task 2:\n",
    "### 1.1 Write a Python Program(with class concepts) to find the area of the triangle using the below formula. area = (s*(s-a)*(s-b)*(s-c)) ** 0.5 Function to take the length of the sides of triangle from user should be defined in the parent class and function to calculate the area should be defined in subclass."
   ]
  },
  {
   "cell_type": "code",
   "execution_count": 1,
   "metadata": {},
   "outputs": [
    {
     "name": "stdout",
     "output_type": "stream",
     "text": [
      "a : 2 \n",
      "b : 6 \n",
      "c : 5\n",
      "Area of Triangle : 4.683748498798798\n"
     ]
    }
   ],
   "source": [
    "class sides:\n",
    "    def __init__(self,a,b,c):\n",
    "        self.a = float(a)\n",
    "        self.b = float(b)\n",
    "        self.c = float(c)\n",
    "\n",
    "class triangle(sides):\n",
    "    def __init__(self,a,b,c):\n",
    "        super().__init__(a,b,c)\n",
    "\n",
    "    def area(self):\n",
    "        s = (a + b + c) / 2\n",
    "        return (s*(s-a)*(s-b)*(s-c)) ** 0.5        \n",
    "\n",
    "a= int(input(\"a : \"))\n",
    "b= int(input(\"b : \"))\n",
    "c= int(input(\"c : \"))\n",
    "\n",
    "t = triangle(a,b,c)\n",
    "print(\"Area of Triangle : {}\".format(t.area()))\n",
    "\n",
    "'''\n",
    "a : 2 \n",
    "b : 6 \n",
    "c : 5\n",
    "Area of Triangle : 4.683748498798798\n",
    "'''"
   ]
  },
  {
   "cell_type": "markdown",
   "metadata": {},
   "source": [
    "### 1.2 Write a function filter_long_words() that takes a list of words and an integer n and returns the list of words that are longer than n."
   ]
  },
  {
   "cell_type": "code",
   "execution_count": 3,
   "metadata": {},
   "outputs": [
    {
     "name": "stdout",
     "output_type": "stream",
     "text": [
      "['abcd', 'abc', 'abcdef']\n"
     ]
    }
   ],
   "source": [
    "def filter_long_words(words, n):\n",
    "    for x in words:\n",
    "        if len(x) <= n:\n",
    "            words.remove(x)\n",
    "    return words\n",
    "\n",
    "print(filter_long_words(['abcd', 'abc', 'ab', 'abcdef', 'a'], 2))\n",
    "\n",
    "# ['abcd', 'abc', 'abcdef']"
   ]
  },
  {
   "cell_type": "markdown",
   "metadata": {},
   "source": [
    "### 2.1 Write a Python program using function concept that maps list of words into a list of integers representing the lengths of the corresponding words​ . \n",
    "### Hint: ​ If a list [ ab,cde,erty] is passed on to the python function output should come as [2,3,4] Here 2,3 and 4 are the lengths of the words in the list."
   ]
  },
  {
   "cell_type": "code",
   "execution_count": 13,
   "metadata": {},
   "outputs": [
    {
     "name": "stdout",
     "output_type": "stream",
     "text": [
      "[2, 3, 4]\n"
     ]
    }
   ],
   "source": [
    "def maps_words(words):\n",
    "    length = []\n",
    "    for x in words:\n",
    "        length.append(len(x))\n",
    "    return length\n",
    "\n",
    "print(maps_words(['ab', 'cde', 'erty']))\n",
    "\n",
    "# [2, 3, 4]"
   ]
  },
  {
   "cell_type": "markdown",
   "metadata": {},
   "source": [
    "### 2.2 Write a Python function which takes a character (i.e. a string of length 1) and returns True if it is a vowel, False otherwise."
   ]
  },
  {
   "cell_type": "code",
   "execution_count": 18,
   "metadata": {},
   "outputs": [
    {
     "name": "stdout",
     "output_type": "stream",
     "text": [
      "a\n",
      "a : True\n"
     ]
    },
    {
     "data": {
      "text/plain": [
       "'\\n\\ndsn\\nd : False\\n---------\\na\\na : True\\n\\n'"
      ]
     },
     "execution_count": 18,
     "metadata": {},
     "output_type": "execute_result"
    }
   ],
   "source": [
    "def is_Vowel(character):\n",
    "    vowel = ['a', 'A', 'e', 'E', 'i', 'I', 'o', 'O', 'u', 'U']\n",
    "    if character in vowel:\n",
    "        return True\n",
    "    else:\n",
    "        return False\n",
    "    \n",
    "character = input()[:1]\n",
    "print(character, ':' , is_Vowel(character))\n",
    "\n",
    "'''\n",
    "\n",
    "dsn\n",
    "d : False\n",
    "---------\n",
    "a\n",
    "a : True\n",
    "\n",
    "'''"
   ]
  },
  {
   "cell_type": "code",
   "execution_count": null,
   "metadata": {},
   "outputs": [],
   "source": []
  }
 ],
 "metadata": {
  "kernelspec": {
   "display_name": "Python 3",
   "language": "python",
   "name": "python3"
  },
  "language_info": {
   "codemirror_mode": {
    "name": "ipython",
    "version": 3
   },
   "file_extension": ".py",
   "mimetype": "text/x-python",
   "name": "python",
   "nbconvert_exporter": "python",
   "pygments_lexer": "ipython3",
   "version": "3.6.5"
  }
 },
 "nbformat": 4,
 "nbformat_minor": 2
}

{
 "cells": [
  {
   "cell_type": "markdown",
   "metadata": {},
   "source": [
    "# Assignment 3\n",
    "## Name : Nooras Fatima Ansari"
   ]
  },
  {
   "cell_type": "markdown",
   "metadata": {},
   "source": [
    "# Task 1:\n",
    "### 1. Write a function to compute 5/0 and use try/except to catch the exceptions."
   ]
  },
  {
   "cell_type": "code",
   "execution_count": 3,
   "metadata": {},
   "outputs": [
    {
     "name": "stdout",
     "output_type": "stream",
     "text": [
      "Division by 0 is not possible !!\n"
     ]
    }
   ],
   "source": [
    "def divide(a, b):\n",
    "    try:\n",
    "        final = a/b\n",
    "        print('Division of {} and {} is {}.'.format(a, b, final))\n",
    "    except ZeroDivisionError:\n",
    "        print('Division by 0 is not possible !!')\n",
    "\n",
    "divide(5, 0)\n",
    "\n",
    "# Division by 0 is not possible !!"
   ]
  },
  {
   "cell_type": "markdown",
   "metadata": {},
   "source": [
    "### 2. Implement a Python program to generate all sentences where subject is in [\"Americans\", \"Indians\"] and verb is in [\"Play\", \"watch\"] and the object is in [\"Baseball\",\"cricket\"]. \n",
    "### Hint: Subject,Verb and Object should be declared in the program as shown below.\n",
    "#### subjects=[\"Americans \",\"Indians\"]\n",
    "#### verbs=[\"play\",\"watch\"]\n",
    "#### objects=[\"Baseball\",\"Cricket\"]\n",
    "\n",
    "#### Output should come as below:\n",
    "- Americans play Baseball.\n",
    "- Americans play Cricket.\n",
    "- Americans watch Baseball.\n",
    "- Americans watch Cricket.\n",
    "- Indians play Baseball.\n",
    "- Indians play Cricket.\n",
    "- Indians watch Baseball.\n",
    "- Indians watch Cricket."
   ]
  },
  {
   "cell_type": "code",
   "execution_count": 4,
   "metadata": {},
   "outputs": [
    {
     "name": "stdout",
     "output_type": "stream",
     "text": [
      "Americans  play Baseball.\n",
      "Americans  play Cricket.\n",
      "Americans  watch Baseball.\n",
      "Americans  watch Cricket.\n",
      "Indians play Baseball.\n",
      "Indians play Cricket.\n",
      "Indians watch Baseball.\n",
      "Indians watch Cricket.\n"
     ]
    }
   ],
   "source": [
    "subjects=[\"Americans \",\"Indians\"]\n",
    "verbs=[\"play\",\"watch\"]\n",
    "objects=[\"Baseball\",\"Cricket\"]\n",
    "\n",
    "for s in subjects:\n",
    "    for v in verbs:\n",
    "        for o in objects:\n",
    "            print('{} {} {}.'.format(s, v, o))"
   ]
  },
  {
   "cell_type": "markdown",
   "metadata": {},
   "source": [
    "# Task 2:\n",
    "### 1. Write a function so that the columns of the output matrix are powers of the input vector. The order of the powers is determined by the increasing boolean argument. Specifically, when increasing is False, the i-th output column is the input vector raised element-wise to the power of N - i - 1.\n",
    "### HINT: Such a matrix with a geometric progression in each row is named for Alexandre Theophile Vandermonde."
   ]
  },
  {
   "cell_type": "code",
   "execution_count": 22,
   "metadata": {},
   "outputs": [],
   "source": [
    "def powerofrow(x):\n",
    "    final = []\n",
    "    for i in x:\n",
    "        temp = []\n",
    "        for j in range(len(x)):\n",
    "            temp.append(i**j)\n",
    "        final.append(temp) \n",
    "    return final"
   ]
  },
  {
   "cell_type": "code",
   "execution_count": 23,
   "metadata": {},
   "outputs": [
    {
     "data": {
      "text/plain": [
       "[[1, 1, 1, 1], [1, 2, 4, 8], [1, 3, 9, 27], [1, 4, 16, 64]]"
      ]
     },
     "execution_count": 23,
     "metadata": {},
     "output_type": "execute_result"
    }
   ],
   "source": [
    "powerofrow([1,2,3,4])"
   ]
  },
  {
   "cell_type": "code",
   "execution_count": 26,
   "metadata": {},
   "outputs": [],
   "source": [
    "# Reverse\n",
    "def powerofrow(x):\n",
    "    final = []\n",
    "    for i in x:\n",
    "        temp = []\n",
    "        for j in range(len(x)):\n",
    "            temp.append(i**j)\n",
    "        final.append(temp[::-1]) \n",
    "    return final"
   ]
  },
  {
   "cell_type": "code",
   "execution_count": 28,
   "metadata": {},
   "outputs": [
    {
     "data": {
      "text/plain": [
       "[[1, 1, 1, 1], [8, 4, 2, 1], [27, 9, 3, 1], [125, 25, 5, 1]]"
      ]
     },
     "execution_count": 28,
     "metadata": {},
     "output_type": "execute_result"
    }
   ],
   "source": [
    "powerofrow([1,2,3,5])"
   ]
  },
  {
   "cell_type": "markdown",
   "metadata": {},
   "source": [
    "#### This below solution is from net (copied)"
   ]
  },
  {
   "cell_type": "code",
   "execution_count": 29,
   "metadata": {},
   "outputs": [],
   "source": [
    "from numpy.core.numeric import (\n",
    "    asarray, empty, promote_types, multiply\n",
    ")\n",
    "def vander(x, N=None, increasing=False):\n",
    "    \"\"\"\n",
    "    Generate a Vandermonde matrix.\n",
    "    The columns of the output matrix are powers of the input vector. The\n",
    "    order of the powers is determined by the `increasing` boolean argument.\n",
    "    Specifically, when `increasing` is False, the `i`-th output column is\n",
    "    the input vector raised element-wise to the power of ``N - i - 1``. Such\n",
    "    a matrix with a geometric progression in each row is named for Alexandre-\n",
    "    Theophile Vandermonde.\n",
    "    Parameters\n",
    "    ----------\n",
    "    x : array_like\n",
    "        1-D input array.\n",
    "    N : int, optional\n",
    "        Number of columns in the output.  If `N` is not specified, a square\n",
    "        array is returned (``N = len(x)``).\n",
    "    increasing : bool, optional\n",
    "        Order of the powers of the columns.  If True, the powers increase\n",
    "        from left to right, if False (the default) they are reversed.\n",
    "        .. versionadded:: 1.9.0\n",
    "    Returns\n",
    "    -------\n",
    "    out : ndarray\n",
    "        Vandermonde matrix.  If `increasing` is False, the first column is\n",
    "        ``x^(N-1)``, the second ``x^(N-2)`` and so forth. If `increasing` is\n",
    "        True, the columns are ``x^0, x^1, ..., x^(N-1)``.\n",
    "    See Also\n",
    "    --------\n",
    "    polynomial.polynomial.polyvander\n",
    "    Examples\n",
    "    --------\n",
    "    >>> x = np.array([1, 2, 3, 5])\n",
    "    >>> N = 3\n",
    "    >>> np.vander(x, N)\n",
    "    array([[ 1,  1,  1],\n",
    "           [ 4,  2,  1],\n",
    "           [ 9,  3,  1],\n",
    "           [25,  5,  1]])\n",
    "    >>> np.column_stack([x**(N-1-i) for i in range(N)])\n",
    "    array([[ 1,  1,  1],\n",
    "           [ 4,  2,  1],\n",
    "           [ 9,  3,  1],\n",
    "           [25,  5,  1]])\n",
    "    >>> x = np.array([1, 2, 3, 5])\n",
    "    >>> np.vander(x)\n",
    "    array([[  1,   1,   1,   1],\n",
    "           [  8,   4,   2,   1],\n",
    "           [ 27,   9,   3,   1],\n",
    "           [125,  25,   5,   1]])\n",
    "    >>> np.vander(x, increasing=True)\n",
    "    array([[  1,   1,   1,   1],\n",
    "           [  1,   2,   4,   8],\n",
    "           [  1,   3,   9,  27],\n",
    "           [  1,   5,  25, 125]])\n",
    "    The determinant of a square Vandermonde matrix is the product\n",
    "    of the differences between the values of the input vector:\n",
    "    >>> np.linalg.det(np.vander(x))\n",
    "    48.000000000000043 # may vary\n",
    "    >>> (5-3)*(5-2)*(5-1)*(3-2)*(3-1)*(2-1)\n",
    "    48\n",
    "    \"\"\"\n",
    "    x = asarray(x)\n",
    "    if x.ndim != 1:\n",
    "        raise ValueError(\"x must be a one-dimensional array or sequence.\")\n",
    "    if N is None:\n",
    "        N = len(x)\n",
    "\n",
    "    v = empty((len(x), N), dtype=promote_types(x.dtype, int))\n",
    "    tmp = v[:, ::-1] if not increasing else v\n",
    "\n",
    "    if N > 0:\n",
    "        tmp[:, 0] = 1\n",
    "    if N > 1:\n",
    "        tmp[:, 1:] = x[:, None]\n",
    "        multiply.accumulate(tmp[:, 1:], out=tmp[:, 1:], axis=1)\n",
    "\n",
    "    return v"
   ]
  },
  {
   "cell_type": "code",
   "execution_count": 25,
   "metadata": {
    "scrolled": true
   },
   "outputs": [
    {
     "data": {
      "text/plain": [
       "array([[  1,   1,   1,   1],\n",
       "       [  8,   4,   2,   1],\n",
       "       [ 27,   9,   3,   1],\n",
       "       [125,  25,   5,   1]])"
      ]
     },
     "execution_count": 25,
     "metadata": {},
     "output_type": "execute_result"
    }
   ],
   "source": [
    "vander([1, 2, 3, 5])"
   ]
  },
  {
   "cell_type": "code",
   "execution_count": null,
   "metadata": {},
   "outputs": [],
   "source": []
  }
 ],
 "metadata": {
  "kernelspec": {
   "display_name": "Python 3",
   "language": "python",
   "name": "python3"
  },
  "language_info": {
   "codemirror_mode": {
    "name": "ipython",
    "version": 3
   },
   "file_extension": ".py",
   "mimetype": "text/x-python",
   "name": "python",
   "nbconvert_exporter": "python",
   "pygments_lexer": "ipython3",
   "version": "3.6.5"
  }
 },
 "nbformat": 4,
 "nbformat_minor": 2
}
